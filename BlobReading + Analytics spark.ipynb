{
  "nbformat": 4,
  "nbformat_minor": 0,
  "metadata": {
    "colab": {
      "provenance": []
    },
    "kernelspec": {
      "name": "python3",
      "display_name": "Python 3"
    },
    "language_info": {
      "name": "python"
    }
  },
  "cells": [
    {
      "cell_type": "code",
      "source": [
        "# in a notebook cell\n",
        "!pip install streamlit pyspark azure-storage-blob pyarrow\n",
        "\n"
      ],
      "metadata": {
        "colab": {
          "base_uri": "https://localhost:8080/"
        },
        "collapsed": true,
        "id": "BujHvzLVBU29",
        "outputId": "62d61456-b3ab-4631-b1a6-27f3aba33581"
      },
      "execution_count": 1,
      "outputs": [
        {
          "output_type": "stream",
          "name": "stdout",
          "text": [
            "Collecting streamlit\n",
            "  Downloading streamlit-1.44.1-py3-none-any.whl.metadata (8.9 kB)\n",
            "Requirement already satisfied: pyspark in /usr/local/lib/python3.11/dist-packages (3.5.5)\n",
            "Collecting azure-storage-blob\n",
            "  Downloading azure_storage_blob-12.25.1-py3-none-any.whl.metadata (26 kB)\n",
            "Requirement already satisfied: pyarrow in /usr/local/lib/python3.11/dist-packages (18.1.0)\n",
            "Requirement already satisfied: altair<6,>=4.0 in /usr/local/lib/python3.11/dist-packages (from streamlit) (5.5.0)\n",
            "Requirement already satisfied: blinker<2,>=1.0.0 in /usr/local/lib/python3.11/dist-packages (from streamlit) (1.9.0)\n",
            "Requirement already satisfied: cachetools<6,>=4.0 in /usr/local/lib/python3.11/dist-packages (from streamlit) (5.5.2)\n",
            "Requirement already satisfied: click<9,>=7.0 in /usr/local/lib/python3.11/dist-packages (from streamlit) (8.1.8)\n",
            "Requirement already satisfied: numpy<3,>=1.23 in /usr/local/lib/python3.11/dist-packages (from streamlit) (2.0.2)\n",
            "Requirement already satisfied: packaging<25,>=20 in /usr/local/lib/python3.11/dist-packages (from streamlit) (24.2)\n",
            "Requirement already satisfied: pandas<3,>=1.4.0 in /usr/local/lib/python3.11/dist-packages (from streamlit) (2.2.2)\n",
            "Requirement already satisfied: pillow<12,>=7.1.0 in /usr/local/lib/python3.11/dist-packages (from streamlit) (11.1.0)\n",
            "Requirement already satisfied: protobuf<6,>=3.20 in /usr/local/lib/python3.11/dist-packages (from streamlit) (5.29.4)\n",
            "Requirement already satisfied: requests<3,>=2.27 in /usr/local/lib/python3.11/dist-packages (from streamlit) (2.32.3)\n",
            "Requirement already satisfied: tenacity<10,>=8.1.0 in /usr/local/lib/python3.11/dist-packages (from streamlit) (9.1.2)\n",
            "Requirement already satisfied: toml<2,>=0.10.1 in /usr/local/lib/python3.11/dist-packages (from streamlit) (0.10.2)\n",
            "Requirement already satisfied: typing-extensions<5,>=4.4.0 in /usr/local/lib/python3.11/dist-packages (from streamlit) (4.13.2)\n",
            "Collecting watchdog<7,>=2.1.5 (from streamlit)\n",
            "  Downloading watchdog-6.0.0-py3-none-manylinux2014_x86_64.whl.metadata (44 kB)\n",
            "\u001b[2K     \u001b[90m━━━━━━━━━━━━━━━━━━━━━━━━━━━━━━━━━━━━━━━━\u001b[0m \u001b[32m44.3/44.3 kB\u001b[0m \u001b[31m1.8 MB/s\u001b[0m eta \u001b[36m0:00:00\u001b[0m\n",
            "\u001b[?25hRequirement already satisfied: gitpython!=3.1.19,<4,>=3.0.7 in /usr/local/lib/python3.11/dist-packages (from streamlit) (3.1.44)\n",
            "Collecting pydeck<1,>=0.8.0b4 (from streamlit)\n",
            "  Downloading pydeck-0.9.1-py2.py3-none-any.whl.metadata (4.1 kB)\n",
            "Requirement already satisfied: tornado<7,>=6.0.3 in /usr/local/lib/python3.11/dist-packages (from streamlit) (6.4.2)\n",
            "Requirement already satisfied: py4j==0.10.9.7 in /usr/local/lib/python3.11/dist-packages (from pyspark) (0.10.9.7)\n",
            "Collecting azure-core>=1.30.0 (from azure-storage-blob)\n",
            "  Downloading azure_core-1.33.0-py3-none-any.whl.metadata (42 kB)\n",
            "\u001b[2K     \u001b[90m━━━━━━━━━━━━━━━━━━━━━━━━━━━━━━━━━━━━━━━━\u001b[0m \u001b[32m42.6/42.6 kB\u001b[0m \u001b[31m1.5 MB/s\u001b[0m eta \u001b[36m0:00:00\u001b[0m\n",
            "\u001b[?25hRequirement already satisfied: cryptography>=2.1.4 in /usr/local/lib/python3.11/dist-packages (from azure-storage-blob) (43.0.3)\n",
            "Collecting isodate>=0.6.1 (from azure-storage-blob)\n",
            "  Downloading isodate-0.7.2-py3-none-any.whl.metadata (11 kB)\n",
            "Requirement already satisfied: jinja2 in /usr/local/lib/python3.11/dist-packages (from altair<6,>=4.0->streamlit) (3.1.6)\n",
            "Requirement already satisfied: jsonschema>=3.0 in /usr/local/lib/python3.11/dist-packages (from altair<6,>=4.0->streamlit) (4.23.0)\n",
            "Requirement already satisfied: narwhals>=1.14.2 in /usr/local/lib/python3.11/dist-packages (from altair<6,>=4.0->streamlit) (1.35.0)\n",
            "Requirement already satisfied: six>=1.11.0 in /usr/local/lib/python3.11/dist-packages (from azure-core>=1.30.0->azure-storage-blob) (1.17.0)\n",
            "Requirement already satisfied: cffi>=1.12 in /usr/local/lib/python3.11/dist-packages (from cryptography>=2.1.4->azure-storage-blob) (1.17.1)\n",
            "Requirement already satisfied: gitdb<5,>=4.0.1 in /usr/local/lib/python3.11/dist-packages (from gitpython!=3.1.19,<4,>=3.0.7->streamlit) (4.0.12)\n",
            "Requirement already satisfied: python-dateutil>=2.8.2 in /usr/local/lib/python3.11/dist-packages (from pandas<3,>=1.4.0->streamlit) (2.8.2)\n",
            "Requirement already satisfied: pytz>=2020.1 in /usr/local/lib/python3.11/dist-packages (from pandas<3,>=1.4.0->streamlit) (2025.2)\n",
            "Requirement already satisfied: tzdata>=2022.7 in /usr/local/lib/python3.11/dist-packages (from pandas<3,>=1.4.0->streamlit) (2025.2)\n",
            "Requirement already satisfied: charset-normalizer<4,>=2 in /usr/local/lib/python3.11/dist-packages (from requests<3,>=2.27->streamlit) (3.4.1)\n",
            "Requirement already satisfied: idna<4,>=2.5 in /usr/local/lib/python3.11/dist-packages (from requests<3,>=2.27->streamlit) (3.10)\n",
            "Requirement already satisfied: urllib3<3,>=1.21.1 in /usr/local/lib/python3.11/dist-packages (from requests<3,>=2.27->streamlit) (2.3.0)\n",
            "Requirement already satisfied: certifi>=2017.4.17 in /usr/local/lib/python3.11/dist-packages (from requests<3,>=2.27->streamlit) (2025.1.31)\n",
            "Requirement already satisfied: pycparser in /usr/local/lib/python3.11/dist-packages (from cffi>=1.12->cryptography>=2.1.4->azure-storage-blob) (2.22)\n",
            "Requirement already satisfied: smmap<6,>=3.0.1 in /usr/local/lib/python3.11/dist-packages (from gitdb<5,>=4.0.1->gitpython!=3.1.19,<4,>=3.0.7->streamlit) (5.0.2)\n",
            "Requirement already satisfied: MarkupSafe>=2.0 in /usr/local/lib/python3.11/dist-packages (from jinja2->altair<6,>=4.0->streamlit) (3.0.2)\n",
            "Requirement already satisfied: attrs>=22.2.0 in /usr/local/lib/python3.11/dist-packages (from jsonschema>=3.0->altair<6,>=4.0->streamlit) (25.3.0)\n",
            "Requirement already satisfied: jsonschema-specifications>=2023.03.6 in /usr/local/lib/python3.11/dist-packages (from jsonschema>=3.0->altair<6,>=4.0->streamlit) (2024.10.1)\n",
            "Requirement already satisfied: referencing>=0.28.4 in /usr/local/lib/python3.11/dist-packages (from jsonschema>=3.0->altair<6,>=4.0->streamlit) (0.36.2)\n",
            "Requirement already satisfied: rpds-py>=0.7.1 in /usr/local/lib/python3.11/dist-packages (from jsonschema>=3.0->altair<6,>=4.0->streamlit) (0.24.0)\n",
            "Downloading streamlit-1.44.1-py3-none-any.whl (9.8 MB)\n",
            "\u001b[2K   \u001b[90m━━━━━━━━━━━━━━━━━━━━━━━━━━━━━━━━━━━━━━━━\u001b[0m \u001b[32m9.8/9.8 MB\u001b[0m \u001b[31m28.9 MB/s\u001b[0m eta \u001b[36m0:00:00\u001b[0m\n",
            "\u001b[?25hDownloading azure_storage_blob-12.25.1-py3-none-any.whl (406 kB)\n",
            "\u001b[2K   \u001b[90m━━━━━━━━━━━━━━━━━━━━━━━━━━━━━━━━━━━━━━━━\u001b[0m \u001b[32m407.0/407.0 kB\u001b[0m \u001b[31m16.5 MB/s\u001b[0m eta \u001b[36m0:00:00\u001b[0m\n",
            "\u001b[?25hDownloading azure_core-1.33.0-py3-none-any.whl (207 kB)\n",
            "\u001b[2K   \u001b[90m━━━━━━━━━━━━━━━━━━━━━━━━━━━━━━━━━━━━━━━━\u001b[0m \u001b[32m207.1/207.1 kB\u001b[0m \u001b[31m9.1 MB/s\u001b[0m eta \u001b[36m0:00:00\u001b[0m\n",
            "\u001b[?25hDownloading isodate-0.7.2-py3-none-any.whl (22 kB)\n",
            "Downloading pydeck-0.9.1-py2.py3-none-any.whl (6.9 MB)\n",
            "\u001b[2K   \u001b[90m━━━━━━━━━━━━━━━━━━━━━━━━━━━━━━━━━━━━━━━━\u001b[0m \u001b[32m6.9/6.9 MB\u001b[0m \u001b[31m47.6 MB/s\u001b[0m eta \u001b[36m0:00:00\u001b[0m\n",
            "\u001b[?25hDownloading watchdog-6.0.0-py3-none-manylinux2014_x86_64.whl (79 kB)\n",
            "\u001b[2K   \u001b[90m━━━━━━━━━━━━━━━━━━━━━━━━━━━━━━━━━━━━━━━━\u001b[0m \u001b[32m79.1/79.1 kB\u001b[0m \u001b[31m2.6 MB/s\u001b[0m eta \u001b[36m0:00:00\u001b[0m\n",
            "\u001b[?25hInstalling collected packages: watchdog, isodate, pydeck, azure-core, azure-storage-blob, streamlit\n",
            "Successfully installed azure-core-1.33.0 azure-storage-blob-12.25.1 isodate-0.7.2 pydeck-0.9.1 streamlit-1.44.1 watchdog-6.0.0\n"
          ]
        }
      ]
    },
    {
      "cell_type": "code",
      "source": [
        "@st.cache_resource\n",
        "def load_data():\n",
        "    spark = get_spark()\n",
        "    if spark is None:\n",
        "        return None\n",
        "\n",
        "    account   = os.getenv('AZURE_STORAGE_ACCOUNT')\n",
        "    container = os.getenv('AZURE_CONTAINER')\n",
        "    base_path = f'wasbs://{container}@{account}.blob.core.windows.net'\n",
        "    path_rides   = f'{base_path}/output_ride/*.parquet'\n",
        "    path_drivers = f'{base_path}/output_driver/*.parquet'\n",
        "\n",
        "    df_rides = spark.read.parquet(path_rides)\n",
        "    df_drivers = spark.read.parquet(path_drivers)\n",
        "\n",
        "    # Debugging: print schemas\n",
        "    print(\"Rides schema:\", df_rides.columns)\n",
        "    print(\"Drivers schema:\", df_drivers.columns)\n",
        "\n",
        "    if 'driver_id' in df_rides.columns and 'driver_id' in df_drivers.columns:\n",
        "        df = df_rides.join(\n",
        "            df_drivers.select('driver_id', 'capacity', 'status', 'timestamp'),\n",
        "            on='driver_id', how='left'\n",
        "        )\n",
        "    else:\n",
        "        st.warning(\"Column 'driver_id' not found in rides or drivers.\")\n",
        "        df = df_rides\n",
        "\n",
        "    df = df.cache()\n",
        "    df = df.withColumn('ts', expr('cast(timestamp as timestamp)'))\n",
        "    return df\n"
      ],
      "metadata": {
        "id": "IMdc6AKBdFLR"
      },
      "execution_count": 10,
      "outputs": []
    },
    {
      "cell_type": "code",
      "source": [
        "import os\n",
        "import streamlit as st\n",
        "from pyspark.sql import SparkSession\n",
        "from pyspark.sql.functions import window, col, count, avg, session_window, expr, when, countDistinct\n",
        "\n",
        "# ----- Configuration for Colab (Spark + Container-level SAS) -----\n",
        "# Replace with your Azure Storage credentials\n",
        "os.environ['AZURE_STORAGE_ACCOUNT'] = 'iesstsabbadbaa'      # your account name\n",
        "os.environ['AZURE_CONTAINER']     = 'stremed-data-project-group9'  # your container name\n",
        "# Generate a container-level SAS with Read+List permissions and no leading '?'\n",
        "os.environ['AZURE_SAS_TOKEN']     = 'sv=2024-11-04&ss=b&srt=co&sp=rwdlaciytfx&se=2025-04-29T04:58:14Z&st=2025-04-21T20:58:14Z&spr=https&sig=7P3lvSJi4Gz7TWSs1mHXS97Rtv16iqsw%2B0BHr7Miw8Y%3D'  # <-- Change this\n",
        "\n",
        "@st.cache_resource\n",
        "def get_spark():\n",
        "    account   = os.getenv('AZURE_STORAGE_ACCOUNT')\n",
        "    container = os.getenv('AZURE_CONTAINER')\n",
        "    sas_token = os.getenv('AZURE_SAS_TOKEN')\n",
        "    if not (account and container and sas_token):\n",
        "        st.error('Azure STORAGE_ACCOUNT, CONTAINER, or SAS_TOKEN missing')\n",
        "        return None\n",
        "\n",
        "    spark = (\n",
        "        SparkSession.builder\n",
        "            .appName('Streamlit Ride Analytics - SAS')\n",
        "            .config(\n",
        "                'spark.jars.packages',\n",
        "                'org.apache.hadoop:hadoop-azure:3.3.4'\n",
        "            )\n",
        "            .config(\n",
        "                f'fs.azure.sas.{container}.{account}.blob.core.windows.net',\n",
        "                sas_token\n",
        "            )\n",
        "            .getOrCreate()\n",
        "    )\n",
        "    return spark\n",
        "\n",
        "# Load and cache raw Spark DataFrame\n",
        "@st.cache_resource\n",
        "def load_data():\n",
        "    spark = get_spark()\n",
        "    if spark is None:\n",
        "        return None\n",
        "    account   = os.getenv('AZURE_STORAGE_ACCOUNT')\n",
        "    container = os.getenv('AZURE_CONTAINER')\n",
        "\n",
        "    base_path   = f'wasbs://{container}@{account}.blob.core.windows.net'\n",
        "    path_rides   = f'{base_path}/output_ride/*.parquet'\n",
        "    path_drivers = f'{base_path}/output_driver/*.parquet'\n",
        "\n",
        "    df_rides   = spark.read.parquet(path_rides)\n",
        "    df_drivers = spark.read.parquet(path_drivers)\n",
        "\n",
        "    if 'user_id' in df_rides.columns and 'request_id' in df_drivers.columns:\n",
        "        df = df_rides.join(\n",
        "            df_drivers.select('driver_id', 'capacity', 'status', 'timestamp'),\n",
        "            on='driver_id', how='left'\n",
        "        )\n",
        "    else:\n",
        "        df = df_rides\n",
        "\n",
        "    df = df.cache()\n",
        "    df = df.withColumn('ts', expr('cast(timestamp as timestamp)'))\n",
        "    return df\n",
        "\n",
        "# Enrich the DataFrame\n",
        "def prepare_frames(df):\n",
        "    if df is None:\n",
        "        return None\n",
        "    rides = df.withColumn(\n",
        "        'is_completed', when(col('status')=='COMPLETED', 1).otherwise(0)\n",
        "    ).withColumn(\n",
        "        'is_active', when(col('status').isin('REQUESTED','ASSIGNED'), 1).otherwise(0)\n",
        "    )\n",
        "\n",
        "    if 'driver_assigned_ts' in rides.columns:\n",
        "        rides = rides.withColumn(\n",
        "            'assigned_ts', expr('cast(driver_assigned_ts as timestamp)')\n",
        "        ).withColumn(\n",
        "            'response_time_sec', expr('unix_timestamp(assigned_ts) - unix_timestamp(ts)')\n",
        "        )\n",
        "\n",
        "    if 'pickup_ts' in rides.columns and 'dropoff_ts' in rides.columns:\n",
        "        rides = rides.withColumn(\n",
        "            'pickup_ts', expr('cast(pickup_ts as timestamp)')\n",
        "        ).withColumn(\n",
        "            'dropoff_ts', expr('cast(dropoff_ts as timestamp)')\n",
        "        ).withColumn(\n",
        "            'duration_sec', expr('unix_timestamp(dropoff_ts) - unix_timestamp(pickup_ts)')\n",
        "        )\n",
        "\n",
        "    return rides\n",
        "\n",
        "# Basic analytics\n",
        "def basic_analytics(rides):\n",
        "    if rides is None:\n",
        "        return None, {}\n",
        "    rides_per_hour = (\n",
        "        rides.groupBy(window('ts','1 hour'))\n",
        "             .agg(count('request_id').alias('rides_count'))\n",
        "             .orderBy('window')\n",
        "    )\n",
        "    total     = rides.count()\n",
        "    requested = rides.filter(col('status')=='REQUESTED').count()\n",
        "    active    = rides.filter(col('is_active')==1).count()\n",
        "    completed = rides.filter(col('is_completed')==1).count()\n",
        "    avg_resp  = rides.agg(avg('response_time_sec')).first()[0] if 'response_time_sec' in rides.columns else None\n",
        "    avg_dur   = rides.agg(avg('duration_sec')).first()[0] if 'duration_sec' in rides.columns else None\n",
        "\n",
        "    metrics = {\n",
        "        'total': total,\n",
        "        'requested': requested,\n",
        "        'active': active,\n",
        "        'completed': completed,\n",
        "        'avg_response_sec': avg_resp,\n",
        "        'avg_duration_sec': avg_dur\n",
        "    }\n",
        "    return rides_per_hour, metrics\n",
        "\n",
        "# Intermediate analytics\n",
        "def intermediate_analytics(rides):\n",
        "    if rides is None:\n",
        "        return None, None, 0, None\n",
        "    sessions = rides.groupBy(\n",
        "        session_window('ts','30 minutes'), col('user_id')\n",
        "    ).count()\n",
        "    demand = rides.groupBy(window('ts','1 hour')).agg(\n",
        "        count('request_id').alias('demand')\n",
        "    )\n",
        "    supply = rides.filter(\n",
        "        col('request_id').isNotNull()\n",
        "    ).groupBy(window('ts','1 hour')).agg(\n",
        "        countDistinct('request_id').alias('supply')\n",
        "    )\n",
        "    demand_supply = demand.join(supply, on='window', how='outer').orderBy('window')\n",
        "\n",
        "    cancelled = rides.filter(col('status')=='CANCELLED').count()\n",
        "    cancel_rate = cancelled / rides.count() if rides.count() > 0 else 0\n",
        "    satisfaction = (\n",
        "        rides.agg(avg('rating')).first()[0]\n",
        "        if 'rating' in rides.columns else None\n",
        "    )\n",
        "    return sessions, demand_supply, cancel_rate, satisfaction\n",
        "\n",
        "# Streamlit UI\n",
        "st.title('🚖 Real-time Ride Service Dashboard (SAS Auth)')\n",
        "\n",
        "df = load_data()\n",
        "rides = prepare_frames(df)\n",
        "\n",
        "if rides is not None:\n",
        "    rph, totals = basic_analytics(rides)\n",
        "    sessions, ds, cancel_rate, satisfaction = intermediate_analytics(rides)\n",
        "\n",
        "    st.subheader('📊 Totals & Averages')\n",
        "    st.metric('Total rides', totals['total'])\n",
        "    st.metric('Requested', totals['requested'])\n",
        "    st.metric('Active', totals['active'])\n",
        "    st.metric('Completed', totals['completed'])\n",
        "    if totals['avg_response_sec'] is not None:\n",
        "        st.metric('Avg. response (sec)', f\"{totals['avg_response_sec']:.1f}\")\n",
        "    if totals['avg_duration_sec'] is not None:\n",
        "        st.metric('Avg. duration (sec)', f\"{totals['avg_duration_sec']:.1f}\")\n",
        "\n",
        "    st.subheader('🚀 Rides per Hour')\n",
        "    df_rph = rph.toPandas()\n",
        "    df_rph['start'] = df_rph['window'].apply(lambda w: w['start'])\n",
        "    df_rph = df_rph.set_index('start')['rides_count']\n",
        "    st.line_chart(df_rph)\n",
        "\n",
        "    st.subheader('📈 Demand vs Supply per Hour')\n",
        "    df_ds = ds.toPandas()\n",
        "    df_ds['start'] = df_ds['window'].apply(lambda w: w['start'])\n",
        "    df_ds = df_ds.set_index('start')[['demand','supply']]\n",
        "    st.area_chart(df_ds)\n",
        "\n",
        "    st.subheader('🚦 Cancellation Rate & Satisfaction')\n",
        "    st.write(f\"Cancellation rate: {cancel_rate:.2%}\")\n",
        "    if satisfaction is not None:\n",
        "        st.write(f\"Avg. rating: {satisfaction:.2f}\")\n",
        "else:\n",
        "    st.warning('Data not loaded—verify SAS token and network')\n",
        "\n",
        "st.markdown('---')\n",
        "st.caption('Analytics powered by PySpark + Container-level SAS')"
      ],
      "metadata": {
        "colab": {
          "base_uri": "https://localhost:8080/"
        },
        "id": "VYk3FlbrKZUY",
        "outputId": "1ad4e5c4-3aa0-4d4b-9039-71713d912f4a"
      },
      "execution_count": 15,
      "outputs": [
        {
          "output_type": "stream",
          "name": "stderr",
          "text": [
            "2025-04-22 07:47:33.758 Thread 'MainThread': missing ScriptRunContext! This warning can be ignored when running in bare mode.\n",
            "2025-04-22 07:47:33.760 Thread 'MainThread': missing ScriptRunContext! This warning can be ignored when running in bare mode.\n",
            "2025-04-22 07:47:35.901 Thread 'MainThread': missing ScriptRunContext! This warning can be ignored when running in bare mode.\n",
            "2025-04-22 07:47:35.904 Thread 'MainThread': missing ScriptRunContext! This warning can be ignored when running in bare mode.\n",
            "2025-04-22 07:47:35.906 Thread 'MainThread': missing ScriptRunContext! This warning can be ignored when running in bare mode.\n",
            "2025-04-22 07:47:35.907 Thread 'MainThread': missing ScriptRunContext! This warning can be ignored when running in bare mode.\n",
            "2025-04-22 07:47:35.908 Thread 'MainThread': missing ScriptRunContext! This warning can be ignored when running in bare mode.\n",
            "2025-04-22 07:47:35.909 Thread 'MainThread': missing ScriptRunContext! This warning can be ignored when running in bare mode.\n",
            "2025-04-22 07:47:35.910 Thread 'MainThread': missing ScriptRunContext! This warning can be ignored when running in bare mode.\n",
            "2025-04-22 07:47:35.911 Thread 'MainThread': missing ScriptRunContext! This warning can be ignored when running in bare mode.\n",
            "2025-04-22 07:47:35.914 Thread 'MainThread': missing ScriptRunContext! This warning can be ignored when running in bare mode.\n",
            "2025-04-22 07:47:35.915 Thread 'MainThread': missing ScriptRunContext! This warning can be ignored when running in bare mode.\n",
            "2025-04-22 07:47:35.916 Thread 'MainThread': missing ScriptRunContext! This warning can be ignored when running in bare mode.\n",
            "2025-04-22 07:47:35.916 Thread 'MainThread': missing ScriptRunContext! This warning can be ignored when running in bare mode.\n",
            "2025-04-22 07:47:39.066 Thread 'MainThread': missing ScriptRunContext! This warning can be ignored when running in bare mode.\n",
            "2025-04-22 07:47:39.069 Thread 'MainThread': missing ScriptRunContext! This warning can be ignored when running in bare mode.\n",
            "2025-04-22 07:47:39.070 Thread 'MainThread': missing ScriptRunContext! This warning can be ignored when running in bare mode.\n",
            "2025-04-22 07:47:39.071 Thread 'MainThread': missing ScriptRunContext! This warning can be ignored when running in bare mode.\n",
            "2025-04-22 07:47:42.547 Thread 'MainThread': missing ScriptRunContext! This warning can be ignored when running in bare mode.\n",
            "2025-04-22 07:47:42.548 Thread 'MainThread': missing ScriptRunContext! This warning can be ignored when running in bare mode.\n",
            "2025-04-22 07:47:42.550 Thread 'MainThread': missing ScriptRunContext! This warning can be ignored when running in bare mode.\n",
            "2025-04-22 07:47:42.552 Thread 'MainThread': missing ScriptRunContext! This warning can be ignored when running in bare mode.\n",
            "2025-04-22 07:47:42.554 Thread 'MainThread': missing ScriptRunContext! This warning can be ignored when running in bare mode.\n",
            "2025-04-22 07:47:42.555 Thread 'MainThread': missing ScriptRunContext! This warning can be ignored when running in bare mode.\n",
            "2025-04-22 07:47:42.559 Thread 'MainThread': missing ScriptRunContext! This warning can be ignored when running in bare mode.\n",
            "2025-04-22 07:47:42.560 Thread 'MainThread': missing ScriptRunContext! This warning can be ignored when running in bare mode.\n",
            "2025-04-22 07:47:42.561 Thread 'MainThread': missing ScriptRunContext! This warning can be ignored when running in bare mode.\n",
            "2025-04-22 07:47:42.562 Thread 'MainThread': missing ScriptRunContext! This warning can be ignored when running in bare mode.\n",
            "2025-04-22 07:47:42.563 Thread 'MainThread': missing ScriptRunContext! This warning can be ignored when running in bare mode.\n",
            "2025-04-22 07:47:42.567 Thread 'MainThread': missing ScriptRunContext! This warning can be ignored when running in bare mode.\n"
          ]
        },
        {
          "output_type": "execute_result",
          "data": {
            "text/plain": [
              "DeltaGenerator()"
            ]
          },
          "metadata": {},
          "execution_count": 15
        }
      ]
    },
    {
      "cell_type": "markdown",
      "source": [
        "# Windows"
      ],
      "metadata": {
        "id": "JBKHhE5yfoOG"
      }
    },
    {
      "cell_type": "code",
      "source": [
        "rides.unpersist()"
      ],
      "metadata": {
        "colab": {
          "base_uri": "https://localhost:8080/"
        },
        "id": "vB034OOYezWw",
        "outputId": "30e64660-364b-410f-dc75-6878d4d0d448"
      },
      "execution_count": 32,
      "outputs": [
        {
          "output_type": "execute_result",
          "data": {
            "text/plain": [
              "DataFrame[request_id: string, user_id: string, timestamp: bigint, pickup_lat: double, pickup_lon: double, dest_lat: double, dest_lon: double, status: string, vehicle_type: string, estimated_fare: double, estimated_duration: int, estimated_distance: double, passenger_count: int, ts: timestamp, is_completed: int, is_active: int]"
            ]
          },
          "metadata": {},
          "execution_count": 32
        }
      ]
    },
    {
      "cell_type": "code",
      "source": [
        "rides.select(\"ts\").distinct().orderBy(\"ts\").show(50, truncate=False)"
      ],
      "metadata": {
        "colab": {
          "base_uri": "https://localhost:8080/"
        },
        "collapsed": true,
        "id": "DewPQ4SOheKM",
        "outputId": "cdb3c8ab-653a-4b01-a604-1148341dff6f"
      },
      "execution_count": 37,
      "outputs": [
        {
          "output_type": "stream",
          "name": "stdout",
          "text": [
            "+-------------------+\n",
            "|ts                 |\n",
            "+-------------------+\n",
            "|2023-03-01 07:00:00|\n",
            "|2023-03-01 08:00:00|\n",
            "+-------------------+\n",
            "\n"
          ]
        }
      ]
    },
    {
      "cell_type": "code",
      "source": [
        "from pyspark.sql.functions import monotonically_increasing_id\n",
        "\n",
        "rides = rides.withColumn(\"ts\", from_unixtime(col(\"timestamp\") + monotonically_increasing_id() % 300).cast(\"timestamp\"))\n"
      ],
      "metadata": {
        "id": "n3jw39T4ggj1"
      },
      "execution_count": 38,
      "outputs": []
    },
    {
      "cell_type": "code",
      "source": [
        "from pyspark.sql.functions import window, count\n",
        "\n",
        "rides_per_5min = rides.groupBy(window(\"ts\", \"20 seconds\")) \\\n",
        "                      .agg(count(\"request_id\").alias(\"total_rides\")) \\\n",
        "                      .orderBy(\"window\")\n",
        "\n",
        "rides_per_5min.show(truncate=False)\n"
      ],
      "metadata": {
        "colab": {
          "base_uri": "https://localhost:8080/"
        },
        "id": "lFPBIrEHfrwu",
        "outputId": "4b86da14-9cd4-4d12-d286-16c6b150efb1"
      },
      "execution_count": 40,
      "outputs": [
        {
          "output_type": "stream",
          "name": "stdout",
          "text": [
            "+------------------------------------------+-----------+\n",
            "|window                                    |total_rides|\n",
            "+------------------------------------------+-----------+\n",
            "|{2023-03-01 07:00:00, 2023-03-01 07:00:20}|120        |\n",
            "|{2023-03-01 07:00:20, 2023-03-01 07:00:40}|120        |\n",
            "|{2023-03-01 07:00:40, 2023-03-01 07:01:00}|120        |\n",
            "|{2023-03-01 07:01:00, 2023-03-01 07:01:20}|120        |\n",
            "|{2023-03-01 07:01:20, 2023-03-01 07:01:40}|128        |\n",
            "|{2023-03-01 07:01:40, 2023-03-01 07:02:00}|138        |\n",
            "|{2023-03-01 07:02:00, 2023-03-01 07:02:20}|133        |\n",
            "|{2023-03-01 07:02:20, 2023-03-01 07:02:40}|140        |\n",
            "|{2023-03-01 07:02:40, 2023-03-01 07:03:00}|140        |\n",
            "|{2023-03-01 07:03:00, 2023-03-01 07:03:20}|140        |\n",
            "|{2023-03-01 07:03:20, 2023-03-01 07:03:40}|128        |\n",
            "|{2023-03-01 07:03:40, 2023-03-01 07:04:00}|140        |\n",
            "|{2023-03-01 07:04:00, 2023-03-01 07:04:20}|106        |\n",
            "|{2023-03-01 07:04:20, 2023-03-01 07:04:40}|100        |\n",
            "|{2023-03-01 07:04:40, 2023-03-01 07:05:00}|100        |\n",
            "|{2023-03-01 08:01:40, 2023-03-01 08:02:00}|2          |\n",
            "|{2023-03-01 08:02:00, 2023-03-01 08:02:20}|7          |\n",
            "|{2023-03-01 08:03:20, 2023-03-01 08:03:40}|12         |\n",
            "+------------------------------------------+-----------+\n",
            "\n"
          ]
        }
      ]
    },
    {
      "cell_type": "markdown",
      "source": [
        "# Average Fare per Vehicle Type"
      ],
      "metadata": {
        "id": "nIhwxDfzo4rJ"
      }
    },
    {
      "cell_type": "code",
      "source": [
        "from pyspark.sql.functions import avg\n",
        "\n",
        "avg_fare_by_type = rides.groupBy(\"vehicle_type\") \\\n",
        "                        .agg(avg(\"estimated_fare\").alias(\"avg_fare\")) \\\n",
        "                        .orderBy(\"avg_fare\", ascending=False)\n",
        "\n",
        "avg_fare_by_type.show(truncate=False)\n"
      ],
      "metadata": {
        "colab": {
          "base_uri": "https://localhost:8080/"
        },
        "id": "VC2oyRUso7Ry",
        "outputId": "89a76add-6fdb-43c8-c41c-9e3de1c3ebe6"
      },
      "execution_count": 53,
      "outputs": [
        {
          "output_type": "stream",
          "name": "stdout",
          "text": [
            "+------------+------------------+\n",
            "|vehicle_type|avg_fare          |\n",
            "+------------+------------------+\n",
            "|Van         |28.52373737373737 |\n",
            "|Premium     |27.947412587412586|\n",
            "|SUV         |27.825677966101697|\n",
            "|Comfort     |27.351956521739133|\n",
            "|Economy     |27.27153531218013 |\n",
            "+------------+------------------+\n",
            "\n"
          ]
        }
      ]
    },
    {
      "cell_type": "markdown",
      "source": [
        "The analysis of average fares by vehicle type reveals a logical pricing hierarchy across ride categories. Vans have the highest average fare (€28.52), likely due to their higher capacity and potential use for group travel. Following closely are Premium and SUV options, both priced slightly below Vans, reflecting their positioning as higher-comfort or luxury offerings.\n",
        "\n",
        "Interestingly, Comfort and Economy rides show only a minor difference in average fare (~€0.08), suggesting either:\n",
        "\n",
        "A lack of significant distinction between the two tiers in the pricing logic, or\n",
        "\n",
        "An opportunity to further differentiate them in future iterations of the pricing model.\n",
        "\n",
        "Overall, the fare distribution aligns with expected market dynamics, validating the synthetic pricing structure and providing a foundation for further margin or segment analysis"
      ],
      "metadata": {
        "id": "D8tI3v_rpHfh"
      }
    },
    {
      "cell_type": "markdown",
      "source": [
        "# Demand–Supply Matching"
      ],
      "metadata": {
        "id": "X9CxRF5GiZW2"
      }
    },
    {
      "cell_type": "code",
      "source": [
        "rides.printSchema()\n"
      ],
      "metadata": {
        "colab": {
          "base_uri": "https://localhost:8080/"
        },
        "collapsed": true,
        "id": "PJck07Mhm0IJ",
        "outputId": "dddd8423-03d1-4a1c-b588-409a9353d15d"
      },
      "execution_count": 48,
      "outputs": [
        {
          "output_type": "stream",
          "name": "stdout",
          "text": [
            "root\n",
            " |-- request_id: string (nullable = true)\n",
            " |-- user_id: string (nullable = true)\n",
            " |-- timestamp: long (nullable = true)\n",
            " |-- pickup_lat: double (nullable = true)\n",
            " |-- pickup_lon: double (nullable = true)\n",
            " |-- dest_lat: double (nullable = true)\n",
            " |-- dest_lon: double (nullable = true)\n",
            " |-- status: string (nullable = true)\n",
            " |-- vehicle_type: string (nullable = true)\n",
            " |-- estimated_fare: double (nullable = true)\n",
            " |-- estimated_duration: integer (nullable = true)\n",
            " |-- estimated_distance: double (nullable = true)\n",
            " |-- passenger_count: integer (nullable = true)\n",
            " |-- ts: timestamp (nullable = true)\n",
            " |-- is_completed: integer (nullable = false)\n",
            " |-- is_active: integer (nullable = false)\n",
            "\n"
          ]
        }
      ]
    },
    {
      "cell_type": "code",
      "source": [
        "from pyspark.sql.functions import window, count, col, expr\n",
        "\n",
        "# Demand: all requests\n",
        "demand = rides.groupBy(window(\"ts\", \"20 seconds\")) \\\n",
        "              .agg(count(\"request_id\").alias(\"demand\"))\n",
        "\n",
        "# Supply: rides where is_active = 1 or is_completed = 1\n",
        "supply = rides.filter((col(\"is_active\") == 1) | (col(\"is_completed\") == 1)) \\\n",
        "              .groupBy(window(\"ts\", \"20 seconds\")) \\\n",
        "              .agg(count(\"request_id\").alias(\"supply\"))\n",
        "\n",
        "# Join and compute ratio\n",
        "demand_supply = demand.join(supply, on=\"window\", how=\"outer\") \\\n",
        "                      .withColumn(\"demand_supply_ratio\", expr(\"demand / supply\")) \\\n",
        "                      .orderBy(\"window\")\n",
        "\n",
        "demand_supply.show(truncate=False)\n",
        "\n"
      ],
      "metadata": {
        "colab": {
          "base_uri": "https://localhost:8080/"
        },
        "id": "_ZkYh-hdidnw",
        "outputId": "d8d6c85e-75f1-4d15-8350-81dc7ab21966"
      },
      "execution_count": 49,
      "outputs": [
        {
          "output_type": "stream",
          "name": "stdout",
          "text": [
            "+------------------------------------------+------+------+-------------------+\n",
            "|window                                    |demand|supply|demand_supply_ratio|\n",
            "+------------------------------------------+------+------+-------------------+\n",
            "|{2023-03-01 07:00:00, 2023-03-01 07:00:20}|120   |120   |1.0                |\n",
            "|{2023-03-01 07:00:20, 2023-03-01 07:00:40}|120   |120   |1.0                |\n",
            "|{2023-03-01 07:00:40, 2023-03-01 07:01:00}|120   |120   |1.0                |\n",
            "|{2023-03-01 07:01:00, 2023-03-01 07:01:20}|120   |120   |1.0                |\n",
            "|{2023-03-01 07:01:20, 2023-03-01 07:01:40}|128   |128   |1.0                |\n",
            "|{2023-03-01 07:01:40, 2023-03-01 07:02:00}|138   |138   |1.0                |\n",
            "|{2023-03-01 07:02:00, 2023-03-01 07:02:20}|133   |133   |1.0                |\n",
            "|{2023-03-01 07:02:20, 2023-03-01 07:02:40}|140   |140   |1.0                |\n",
            "|{2023-03-01 07:02:40, 2023-03-01 07:03:00}|140   |140   |1.0                |\n",
            "|{2023-03-01 07:03:00, 2023-03-01 07:03:20}|140   |140   |1.0                |\n",
            "|{2023-03-01 07:03:20, 2023-03-01 07:03:40}|128   |128   |1.0                |\n",
            "|{2023-03-01 07:03:40, 2023-03-01 07:04:00}|140   |140   |1.0                |\n",
            "|{2023-03-01 07:04:00, 2023-03-01 07:04:20}|106   |106   |1.0                |\n",
            "|{2023-03-01 07:04:20, 2023-03-01 07:04:40}|100   |100   |1.0                |\n",
            "|{2023-03-01 07:04:40, 2023-03-01 07:05:00}|100   |100   |1.0                |\n",
            "|{2023-03-01 08:01:40, 2023-03-01 08:02:00}|2     |2     |1.0                |\n",
            "|{2023-03-01 08:02:00, 2023-03-01 08:02:20}|7     |7     |1.0                |\n",
            "|{2023-03-01 08:03:20, 2023-03-01 08:03:40}|12    |12    |1.0                |\n",
            "+------------------------------------------+------+------+-------------------+\n",
            "\n"
          ]
        }
      ]
    },
    {
      "cell_type": "markdown",
      "source": [
        "During the analyzed time intervals, the ride-hailing platform maintained perfect demand–supply equilibrium across all 5-minute windows. For every request made, there was a matching supply of available drivers, as reflected by a consistent demand/supply ratio of 1.0.\n",
        "\n",
        "This suggests that the system was operating at maximum efficiency, with no unmet demand or excess idle supply. However, it's also important to note that this perfect balance may indicate synthetic data symmetry, which doesn’t typically reflect real-world dynamics. In reality, we would expect some fluctuation in this ratio, especially during peak hours or under resource constraints.\n",
        "\n",
        "This observation validates the correctness of the analytics logic while also highlighting a potential improvement point in data generation to simulate more realistic stress scenarios"
      ],
      "metadata": {
        "id": "6eCNbB7oos5h"
      }
    },
    {
      "cell_type": "markdown",
      "source": [
        "# Passenger Load per Vehicle Type"
      ],
      "metadata": {
        "id": "lzkSwd85pZJr"
      }
    },
    {
      "cell_type": "code",
      "source": [
        "from pyspark.sql.functions import avg\n",
        "\n",
        "passenger_load = rides.groupBy(\"vehicle_type\") \\\n",
        "                      .agg(avg(\"passenger_count\").alias(\"avg_passenger_count\")) \\\n",
        "                      .orderBy(\"avg_passenger_count\", ascending=False)\n",
        "\n",
        "passenger_load.show(truncate=False)\n",
        "\n",
        "\n"
      ],
      "metadata": {
        "colab": {
          "base_uri": "https://localhost:8080/"
        },
        "id": "5cUDCTpWpbjl",
        "outputId": "59fc4eba-f7f6-431c-beda-a500a2efd7d3"
      },
      "execution_count": 57,
      "outputs": [
        {
          "output_type": "stream",
          "name": "stdout",
          "text": [
            "+------------+-------------------+\n",
            "|vehicle_type|avg_passenger_count|\n",
            "+------------+-------------------+\n",
            "|SUV         |2.542372881355932  |\n",
            "|Comfort     |2.5193236714975846 |\n",
            "|Economy     |2.4943705220061414 |\n",
            "|Van         |2.474747474747475  |\n",
            "|Premium     |2.4125874125874125 |\n",
            "+------------+-------------------+\n",
            "\n"
          ]
        }
      ]
    },
    {
      "cell_type": "markdown",
      "source": [
        "The analysis of average passenger count per vehicle type reveals a surprisingly narrow distribution, with all categories averaging around 2.4–2.5 passengers per ride. SUVs have the highest average load (2.54), slightly ahead of Comfort and Economy options, while Premium rides show the lowest average (2.41), consistent with their positioning as higher-end, more personalized services.\n",
        "\n",
        "Interestingly, Vans, which are typically expected to serve larger groups, show no significant increase in passenger load. This suggests they may be underutilized in the current ride allocation logic or synthetic data assumptions, making them a potential target for efficiency improvements or specialized ride-sharing initiatives.\n",
        "\n",
        "These insights can support smarter vehicle distribution strategies, tailored marketing for ride pooling, or adjustments to pricing tiers based on typical occupancy"
      ],
      "metadata": {
        "id": "IKEUoI8xtAfc"
      }
    },
    {
      "cell_type": "markdown",
      "source": [
        "# Anomaly Detection in Estimated Fare"
      ],
      "metadata": {
        "id": "u3kYKhtkneI3"
      }
    },
    {
      "cell_type": "code",
      "source": [
        "from pyspark.sql.functions import mean, stddev\n",
        "\n",
        "# Compute mean and stddev\n",
        "stats = rides.select(mean(\"estimated_fare\").alias(\"mean_fare\"),\n",
        "                     stddev(\"estimated_fare\").alias(\"std_fare\")).first()\n",
        "\n",
        "mean_fare = stats[\"mean_fare\"]\n",
        "std_fare = stats[\"std_fare\"]\n",
        "\n",
        "# Flag rides as anomalies if fare > 3 std deviations from the mean\n",
        "anomalies = rides.filter(\n",
        "    (col(\"estimated_fare\") > mean_fare + 1.5 * std_fare) |\n",
        "    (col(\"estimated_fare\") < mean_fare - 1.5 * std_fare)\n",
        ")\n",
        "\n",
        "# Show some anomalies\n",
        "anomalies.select(\"request_id\", \"estimated_fare\", \"ts\").show(truncate=False)\n"
      ],
      "metadata": {
        "colab": {
          "base_uri": "https://localhost:8080/"
        },
        "id": "lu4uQ1LymmPD",
        "outputId": "d7ce5c0f-e6df-4dcc-fbdf-db0263b822a4"
      },
      "execution_count": 51,
      "outputs": [
        {
          "output_type": "stream",
          "name": "stdout",
          "text": [
            "+----------+--------------+-------------------+\n",
            "|request_id|estimated_fare|ts                 |\n",
            "+----------+--------------+-------------------+\n",
            "|R-fe111a0d|47.56         |2023-03-01 07:00:01|\n",
            "|R-63f2cb5e|6.38          |2023-03-01 07:00:25|\n",
            "|R-c7205a20|7.55          |2023-03-01 07:00:34|\n",
            "|R-259d8079|47.81         |2023-03-01 07:01:08|\n",
            "|R-77534688|47.8          |2023-03-01 07:01:12|\n",
            "|R-ec25b018|48.63         |2023-03-01 07:01:13|\n",
            "|R-1aa09847|47.43         |2023-03-01 07:01:17|\n",
            "|R-6c15250d|6.47          |2023-03-01 07:01:24|\n",
            "|R-38ae50bd|5.8           |2023-03-01 07:01:33|\n",
            "|R-8504417c|47.39         |2023-03-01 07:01:36|\n",
            "|R-56c9ec2e|7.18          |2023-03-01 07:01:39|\n",
            "|R-472dc5e0|49.33         |2023-03-01 07:01:40|\n",
            "|R-a47862c0|47.87         |2023-03-01 07:01:46|\n",
            "|R-d0997b94|7.05          |2023-03-01 07:01:48|\n",
            "|R-ea97c3b7|47.74         |2023-03-01 07:01:58|\n",
            "|R-ade2e5bc|6.41          |2023-03-01 07:02:05|\n",
            "|R-65343ded|5.19          |2023-03-01 07:02:11|\n",
            "|R-505c49b5|6.66          |2023-03-01 07:02:19|\n",
            "|R-33d6ca86|6.95          |2023-03-01 07:02:27|\n",
            "|R-a8a49634|7.09          |2023-03-01 07:02:30|\n",
            "+----------+--------------+-------------------+\n",
            "only showing top 20 rows\n",
            "\n"
          ]
        }
      ]
    },
    {
      "cell_type": "code",
      "source": [
        "from pyspark.sql.functions import abs\n",
        "\n",
        "anomalies = anomalies.withColumn(\n",
        "    \"z_score\",\n",
        "    abs((col(\"estimated_fare\") - mean_fare) / std_fare)\n",
        ")\n",
        "\n",
        "anomalies.select(\"request_id\", \"estimated_fare\", \"z_score\", \"ts\").show(truncate=False)\n"
      ],
      "metadata": {
        "colab": {
          "base_uri": "https://localhost:8080/"
        },
        "id": "8BgIbRKFoOWT",
        "outputId": "66590af4-a37e-44de-c6b3-25a820b4a6aa"
      },
      "execution_count": 52,
      "outputs": [
        {
          "output_type": "stream",
          "name": "stdout",
          "text": [
            "+----------+--------------+------------------+-------------------+\n",
            "|request_id|estimated_fare|z_score           |ts                 |\n",
            "+----------+--------------+------------------+-------------------+\n",
            "|R-fe111a0d|47.56         |1.5252095216190649|2023-03-01 07:00:01|\n",
            "|R-63f2cb5e|6.38          |1.6044232794542517|2023-03-01 07:00:25|\n",
            "|R-c7205a20|7.55          |1.5155046204630962|2023-03-01 07:00:34|\n",
            "|R-259d8079|47.81         |1.5442092350787133|2023-03-01 07:01:08|\n",
            "|R-77534688|47.8          |1.5434492465403271|2023-03-01 07:01:12|\n",
            "|R-ec25b018|48.63         |1.6065282952263609|2023-03-01 07:01:13|\n",
            "|R-1aa09847|47.43         |1.5153296706200474|2023-03-01 07:01:17|\n",
            "|R-6c15250d|6.47          |1.5975833826087782|2023-03-01 07:01:24|\n",
            "|R-38ae50bd|5.8           |1.6485026146806363|2023-03-01 07:01:33|\n",
            "|R-8504417c|47.39         |1.5122897164665037|2023-03-01 07:01:36|\n",
            "|R-56c9ec2e|7.18          |1.5436241963833761|2023-03-01 07:01:39|\n",
            "|R-472dc5e0|49.33         |1.6597274929133765|2023-03-01 07:01:40|\n",
            "|R-a47862c0|47.87         |1.5487691663090286|2023-03-01 07:01:46|\n",
            "|R-d0997b94|7.05          |1.5535040473823933|2023-03-01 07:01:48|\n",
            "|R-ea97c3b7|47.74         |1.5388893153100118|2023-03-01 07:01:58|\n",
            "|R-ade2e5bc|6.41          |1.602143313839094 |2023-03-01 07:02:05|\n",
            "|R-65343ded|5.19          |1.694861915522179 |2023-03-01 07:02:11|\n",
            "|R-505c49b5|6.66          |1.5831436003794452|2023-03-01 07:02:19|\n",
            "|R-33d6ca86|6.95          |1.561103932766253 |2023-03-01 07:02:27|\n",
            "|R-a8a49634|7.09          |1.5504640932288498|2023-03-01 07:02:30|\n",
            "+----------+--------------+------------------+-------------------+\n",
            "only showing top 20 rows\n",
            "\n"
          ]
        }
      ]
    },
    {
      "cell_type": "markdown",
      "source": [
        "# Heatmap"
      ],
      "metadata": {
        "id": "Uc5hrQQYtLng"
      }
    },
    {
      "cell_type": "code",
      "source": [
        "# Round to broader zones (1 decimal = ~11km block)\n",
        "from pyspark.sql.functions import round\n",
        "\n",
        "# Use higher precision for more dispersed zones\n",
        "zone_demand_supply = rides.groupBy(\n",
        "    window(\"ts\", \"30 seconds\"),\n",
        "    round(\"pickup_lat\", 2).alias(\"lat_zone\"),   # switch from 1 → 2\n",
        "    round(\"pickup_lon\", 2).alias(\"lon_zone\")\n",
        ").agg(count(\"request_id\").alias(\"demand\")) \\\n",
        ".join(\n",
        "    rides.filter((col(\"is_active\") == 1) | (col(\"is_completed\") == 1)) \\\n",
        "         .groupBy(window(\"ts\", \"30 seconds\"),\n",
        "                  round(\"pickup_lat\", 2).alias(\"lat_zone\"),\n",
        "                  round(\"pickup_lon\", 2).alias(\"lon_zone\")) \\\n",
        "         .agg(count(\"request_id\").alias(\"supply\")),\n",
        "    on=[\"window\", \"lat_zone\", \"lon_zone\"],\n",
        "    how=\"outer\"\n",
        ").fillna(0) \\\n",
        ".withColumn(\"demand_supply_ratio\", col(\"demand\") / (col(\"supply\") + 1))\n",
        "\n",
        "\n",
        "# Convert to pandas\n",
        "zone_pdf = zone_demand_supply.select(\n",
        "    \"lat_zone\", \"lon_zone\", \"demand_supply_ratio\"\n",
        ").toPandas()\n",
        "\n",
        "# Plot updated heatmap\n",
        "import plotly.express as px\n",
        "fig = px.density_mapbox(\n",
        "    zone_pdf,\n",
        "    lat=\"lat_zone\",\n",
        "    lon=\"lon_zone\",\n",
        "    z=\"demand_supply_ratio\",\n",
        "    radius=25,\n",
        "    center=dict(lat=zone_pdf[\"lat_zone\"].mean(), lon=zone_pdf[\"lon_zone\"].mean()),\n",
        "    zoom=9,\n",
        "    mapbox_style=\"carto-positron\",\n",
        "    color_continuous_scale=\"Turbo\",  # or try \"Viridis\", \"Inferno\", \"Plasma\"\n",
        "    title=\"Heatmap of Demand/Supply Ratio by Zone\"\n",
        ")\n",
        "\n",
        "fig.show()\n",
        "\n",
        "\n",
        "\n"
      ],
      "metadata": {
        "colab": {
          "base_uri": "https://localhost:8080/",
          "height": 542
        },
        "id": "B9g65PsFtbRz",
        "outputId": "d18709b5-24b5-44bc-8f46-cce8668823bb"
      },
      "execution_count": 65,
      "outputs": [
        {
          "output_type": "display_data",
          "data": {
            "text/html": [
              "<html>\n",
              "<head><meta charset=\"utf-8\" /></head>\n",
              "<body>\n",
              "    <div>            <script src=\"https://cdnjs.cloudflare.com/ajax/libs/mathjax/2.7.5/MathJax.js?config=TeX-AMS-MML_SVG\"></script><script type=\"text/javascript\">if (window.MathJax && window.MathJax.Hub && window.MathJax.Hub.Config) {window.MathJax.Hub.Config({SVG: {font: \"STIX-Web\"}});}</script>                <script type=\"text/javascript\">window.PlotlyConfig = {MathJaxConfig: 'local'};</script>\n",
              "        <script charset=\"utf-8\" src=\"https://cdn.plot.ly/plotly-2.35.2.min.js\"></script>                <div id=\"1ef1aeeb-cd0f-4a1b-908c-de1f41f42a29\" class=\"plotly-graph-div\" style=\"height:525px; width:100%;\"></div>            <script type=\"text/javascript\">                                    window.PLOTLYENV=window.PLOTLYENV || {};                                    if (document.getElementById(\"1ef1aeeb-cd0f-4a1b-908c-de1f41f42a29\")) {                    Plotly.newPlot(                        \"1ef1aeeb-cd0f-4a1b-908c-de1f41f42a29\",                        [{\"coloraxis\":\"coloraxis\",\"hovertemplate\":\"demand_supply_ratio=%{z}\\u003cbr\\u003elat_zone=%{lat}\\u003cbr\\u003elon_zone=%{lon}\\u003cextra\\u003e\\u003c\\u002fextra\\u003e\",\"lat\":[40.62,40.63,40.63,40.63,40.64,40.64,40.64,40.64,40.64,40.65,40.71,40.71,40.71,40.72,40.72,40.72,40.72,40.72,40.73,40.73,40.73,40.73,40.74,40.74,40.74,40.74,40.74,40.75,40.75,40.75,40.76,40.76,40.76,40.77,40.77,40.77,40.77,40.77,40.77,40.77,40.77,40.77,40.77,40.78,40.78,40.78,40.78,40.79,40.79,40.79,40.79,40.79,40.8,40.8,40.8,40.81,40.82,40.62,40.63,40.64,40.64,40.64,40.65,40.65,40.7,40.71,40.71,40.71,40.72,40.72,40.72,40.72,40.73,40.73,40.73,40.74,40.74,40.74,40.74,40.74,40.75,40.75,40.75,40.75,40.75,40.75,40.76,40.76,40.76,40.76,40.77,40.77,40.77,40.77,40.77,40.77,40.77,40.77,40.77,40.78,40.78,40.78,40.78,40.78,40.78,40.78,40.79,40.79,40.79,40.79,40.79,40.79,40.8,40.8,40.8,40.81,40.82,40.84,40.63,40.63,40.63,40.64,40.64,40.64,40.64,40.65,40.65,40.7,40.71,40.71,40.72,40.72,40.72,40.73,40.73,40.73,40.73,40.74,40.74,40.74,40.74,40.74,40.75,40.75,40.75,40.75,40.76,40.76,40.76,40.77,40.77,40.77,40.77,40.77,40.77,40.77,40.77,40.77,40.77,40.78,40.78,40.78,40.78,40.78,40.78,40.79,40.79,40.79,40.79,40.79,40.79,40.79,40.8,40.8,40.8,40.8,40.81,40.81,40.82,40.82,40.62,40.63,40.63,40.63,40.64,40.64,40.64,40.64,40.64,40.65,40.65,40.7,40.71,40.71,40.72,40.72,40.72,40.72,40.73,40.73,40.73,40.74,40.74,40.74,40.74,40.74,40.74,40.75,40.75,40.75,40.75,40.75,40.76,40.76,40.76,40.76,40.77,40.77,40.77,40.77,40.77,40.77,40.77,40.77,40.77,40.77,40.78,40.78,40.78,40.78,40.79,40.79,40.79,40.79,40.79,40.79,40.8,40.8,40.8,40.8,40.81,40.81,40.81,40.82,40.84,40.63,40.63,40.63,40.63,40.64,40.64,40.64,40.65,40.71,40.71,40.72,40.72,40.72,40.72,40.73,40.73,40.73,40.73,40.74,40.74,40.74,40.74,40.75,40.75,40.75,40.75,40.75,40.76,40.76,40.76,40.76,40.77,40.77,40.77,40.77,40.77,40.77,40.78,40.78,40.78,40.78,40.78,40.79,40.79,40.79,40.79,40.79,40.79,40.8,40.8,40.8,40.8,40.81,40.81,40.83,40.84,40.63,40.63,40.64,40.64,40.7,40.7,40.71,40.71,40.72,40.72,40.72,40.72,40.72,40.73,40.73,40.73,40.73,40.74,40.74,40.74,40.74,40.74,40.75,40.75,40.75,40.76,40.76,40.76,40.76,40.77,40.77,40.77,40.77,40.78,40.78,40.78,40.78,40.78,40.79,40.79,40.79,40.79,40.79,40.79,40.79,40.8,40.8,40.8,40.8,40.81,40.81,40.81,40.83,40.62,40.63,40.63,40.64,40.64,40.64,40.64,40.64,40.65,40.71,40.71,40.72,40.72,40.72,40.72,40.73,40.73,40.73,40.73,40.73,40.74,40.74,40.74,40.74,40.75,40.75,40.75,40.75,40.75,40.75,40.76,40.76,40.76,40.76,40.77,40.77,40.77,40.77,40.77,40.77,40.77,40.77,40.77,40.78,40.78,40.78,40.78,40.78,40.78,40.78,40.78,40.79,40.79,40.79,40.8,40.8,40.8,40.8,40.81,40.82,40.84,40.62,40.63,40.63,40.63,40.64,40.64,40.64,40.64,40.65,40.7,40.71,40.71,40.71,40.72,40.72,40.72,40.72,40.72,40.73,40.73,40.73,40.73,40.74,40.74,40.74,40.74,40.74,40.74,40.75,40.75,40.75,40.75,40.76,40.76,40.76,40.76,40.77,40.77,40.77,40.77,40.77,40.77,40.77,40.77,40.77,40.78,40.78,40.78,40.79,40.79,40.79,40.79,40.79,40.8,40.8,40.8,40.81,40.81,40.82,40.84,40.62,40.63,40.63,40.63,40.64,40.64,40.64,40.64,40.64,40.65,40.65,40.7,40.71,40.71,40.71,40.72,40.72,40.72,40.72,40.73,40.73,40.73,40.74,40.74,40.74,40.74,40.74,40.75,40.75,40.75,40.75,40.76,40.76,40.76,40.76,40.77,40.77,40.77,40.77,40.77,40.77,40.77,40.77,40.77,40.78,40.78,40.78,40.78,40.78,40.79,40.79,40.79,40.79,40.79,40.8,40.8,40.81,40.81,40.82,40.82,40.84,40.62,40.63,40.64,40.64,40.64,40.64,40.65,40.65,40.7,40.71,40.71,40.71,40.72,40.72,40.72,40.72,40.73,40.73,40.73,40.74,40.74,40.74,40.74,40.74,40.75,40.75,40.75,40.76,40.76,40.76,40.76,40.77,40.77,40.77,40.77,40.77,40.77,40.77,40.78,40.78,40.78,40.78,40.79,40.79,40.79,40.79,40.79,40.79,40.8,40.8,40.8,40.82,40.83,40.84,40.79,40.8,40.67,40.73,40.74,40.75,40.75,40.78,40.78,40.79,40.8,40.64,40.64,40.73,40.73,40.74,40.75,40.75,40.76,40.78,40.79],\"lon\":[-73.8,-73.78,-73.77,-73.76,-73.8,-73.79,-73.78,-73.77,-73.76,-73.77,-74.02,-74.01,-74.0,-74.05,-74.01,-74.0,-73.99,-73.95,-74.02,-74.0,-73.99,-73.98,-74.0,-73.99,-73.97,-73.96,-73.94,-73.99,-73.98,-73.97,-73.98,-73.97,-73.87,-73.99,-73.98,-73.97,-73.96,-73.94,-73.89,-73.88,-73.87,-73.86,-73.85,-73.96,-73.88,-73.87,-73.86,-73.98,-73.97,-73.96,-73.95,-73.93,-73.96,-73.95,-73.94,-73.96,-73.98,-73.8,-73.81,-73.79,-73.78,-73.76,-73.77,-73.76,-73.92,-74.02,-74.01,-74.0,-74.01,-74.0,-73.99,-73.95,-74.0,-73.99,-73.98,-74.0,-73.99,-73.98,-73.97,-73.96,-74.02,-74.0,-73.99,-73.98,-73.97,-73.86,-73.99,-73.98,-73.97,-73.87,-73.98,-73.96,-73.94,-73.92,-73.89,-73.88,-73.87,-73.86,-73.85,-74.02,-73.96,-73.94,-73.89,-73.88,-73.87,-73.86,-73.99,-73.97,-73.95,-73.94,-73.93,-73.88,-73.96,-73.95,-73.94,-73.92,-73.98,-73.97,-73.81,-73.78,-73.76,-73.8,-73.78,-73.77,-73.76,-73.77,-73.76,-73.92,-74.02,-74.01,-74.05,-74.0,-73.99,-74.0,-73.99,-73.98,-73.96,-74.0,-73.99,-73.98,-73.97,-73.94,-74.0,-73.99,-73.98,-73.97,-73.98,-73.97,-73.87,-73.99,-73.98,-73.97,-73.96,-73.94,-73.89,-73.88,-73.87,-73.86,-73.85,-73.97,-73.96,-73.95,-73.88,-73.87,-73.86,-73.99,-73.98,-73.97,-73.95,-73.94,-73.93,-73.88,-73.98,-73.96,-73.95,-73.94,-73.97,-73.92,-73.98,-73.93,-73.8,-73.81,-73.77,-73.76,-73.8,-73.79,-73.78,-73.77,-73.76,-73.77,-73.76,-73.92,-74.02,-74.01,-74.01,-74.0,-73.99,-73.95,-74.02,-74.0,-73.99,-74.0,-73.99,-73.98,-73.97,-73.96,-73.94,-74.02,-73.99,-73.98,-73.97,-73.86,-73.99,-73.98,-73.97,-73.87,-73.99,-73.98,-73.97,-73.94,-73.92,-73.89,-73.88,-73.87,-73.86,-73.85,-73.95,-73.94,-73.89,-73.86,-73.98,-73.97,-73.96,-73.94,-73.93,-73.88,-73.98,-73.96,-73.95,-73.94,-73.97,-73.96,-73.92,-73.98,-73.97,-73.81,-73.78,-73.77,-73.76,-73.8,-73.79,-73.78,-73.77,-74.02,-74.01,-74.01,-74.0,-73.99,-73.95,-74.02,-74.0,-73.99,-73.98,-74.0,-73.99,-73.98,-73.96,-74.02,-74.0,-73.99,-73.98,-73.97,-73.99,-73.98,-73.97,-73.87,-73.98,-73.96,-73.94,-73.88,-73.87,-73.85,-74.02,-73.97,-73.95,-73.87,-73.86,-73.98,-73.97,-73.96,-73.95,-73.94,-73.88,-73.98,-73.96,-73.95,-73.94,-73.97,-73.96,-74.05,-73.97,-73.81,-73.76,-73.8,-73.78,-74.0,-73.92,-74.02,-74.01,-74.02,-74.01,-74.0,-73.99,-73.95,-74.02,-74.0,-73.99,-73.98,-74.0,-73.99,-73.98,-73.97,-73.94,-73.99,-73.98,-73.97,-73.99,-73.98,-73.97,-73.87,-73.94,-73.88,-73.87,-73.85,-73.96,-73.95,-73.94,-73.88,-73.87,-73.99,-73.98,-73.97,-73.96,-73.95,-73.94,-73.88,-73.98,-73.96,-73.95,-73.94,-73.97,-73.96,-73.92,-74.05,-73.8,-73.81,-73.78,-73.8,-73.79,-73.78,-73.77,-73.76,-73.76,-74.02,-74.01,-74.05,-74.02,-74.0,-73.99,-74.02,-74.0,-73.99,-73.98,-73.96,-74.0,-73.99,-73.98,-73.94,-74.02,-74.0,-73.99,-73.98,-73.97,-73.86,-73.99,-73.98,-73.97,-73.87,-73.97,-73.96,-73.94,-73.92,-73.89,-73.88,-73.87,-73.86,-73.85,-74.02,-73.97,-73.96,-73.95,-73.94,-73.88,-73.87,-73.86,-73.99,-73.97,-73.88,-73.98,-73.96,-73.95,-73.94,-73.97,-73.93,-73.97,-73.8,-73.81,-73.78,-73.77,-73.8,-73.79,-73.78,-73.76,-73.76,-73.92,-74.02,-74.01,-74.0,-74.05,-74.01,-74.0,-73.99,-73.95,-74.02,-74.0,-73.99,-73.98,-74.0,-73.99,-73.98,-73.97,-73.96,-73.94,-74.0,-73.99,-73.98,-73.97,-73.99,-73.98,-73.97,-73.87,-73.98,-73.97,-73.96,-73.94,-73.89,-73.88,-73.87,-73.86,-73.85,-73.96,-73.87,-73.86,-73.99,-73.98,-73.96,-73.94,-73.88,-73.96,-73.95,-73.94,-73.97,-73.96,-73.98,-73.97,-73.8,-73.81,-73.78,-73.77,-73.8,-73.79,-73.78,-73.77,-73.76,-73.77,-73.76,-73.92,-74.02,-74.01,-74.0,-74.01,-74.0,-73.99,-73.95,-74.02,-74.0,-73.99,-74.0,-73.99,-73.98,-73.97,-73.96,-74.02,-73.99,-73.98,-73.97,-73.99,-73.98,-73.97,-73.87,-73.98,-73.97,-73.94,-73.92,-73.89,-73.88,-73.87,-73.86,-73.85,-74.02,-73.95,-73.94,-73.87,-73.86,-73.99,-73.97,-73.96,-73.94,-73.88,-73.95,-73.94,-73.97,-73.96,-73.98,-73.93,-73.97,-73.8,-73.78,-73.8,-73.78,-73.77,-73.76,-73.77,-73.76,-73.92,-74.02,-74.01,-74.0,-74.01,-74.0,-73.99,-73.95,-74.0,-73.99,-73.98,-74.0,-73.99,-73.97,-73.96,-73.94,-73.99,-73.98,-73.97,-73.99,-73.98,-73.97,-73.87,-73.96,-73.94,-73.92,-73.89,-73.88,-73.87,-73.86,-73.96,-73.94,-73.87,-73.86,-73.99,-73.97,-73.95,-73.94,-73.93,-73.88,-73.96,-73.95,-73.94,-73.98,-74.05,-73.97,-73.96,-73.96,-73.77,-74.0,-73.96,-73.98,-73.87,-73.95,-73.86,-73.93,-73.96,-73.79,-73.78,-74.0,-73.99,-74.0,-73.99,-73.98,-73.98,-73.95,-73.96],\"name\":\"\",\"radius\":25,\"subplot\":\"mapbox\",\"z\":[0.75,0.75,0.5,0.5,0.6666666666666666,0.5,0.8333333333333334,0.5,0.5,0.5,0.8333333333333334,0.75,0.6666666666666666,0.5,0.8,0.75,0.6666666666666666,0.6666666666666666,0.5,0.8333333333333334,0.8888888888888888,0.5,0.75,0.8888888888888888,0.8,0.75,0.5,0.9,0.9285714285714286,0.8,0.9333333333333333,0.8333333333333334,0.8888888888888888,0.5,0.6666666666666666,0.6666666666666666,0.6666666666666666,0.8,0.75,0.5,0.75,0.8,0.6666666666666666,0.5,0.5,0.5,0.75,0.5,0.75,0.75,0.5,0.5,0.8,0.6666666666666666,0.8333333333333334,0.5,0.5,0.5,0.5,0.6666666666666666,0.9,0.5,0.5,0.6666666666666666,0.8,0.6666666666666666,0.8333333333333334,0.5,0.5,0.75,0.75,0.5,0.8571428571428571,0.8571428571428571,0.6666666666666666,0.6666666666666666,0.8333333333333334,0.8333333333333334,0.5,0.5,0.5,0.5,0.8333333333333334,0.8888888888888888,0.75,0.5,0.6666666666666666,0.9230769230769231,0.9166666666666666,0.8,0.5,0.5,0.75,0.6666666666666666,0.6666666666666666,0.8333333333333334,0.9090909090909091,0.6666666666666666,0.8888888888888888,0.5,0.5,0.5,0.5,0.5,0.875,0.5,0.8,0.5,0.5,0.5,0.5,0.5,0.5,0.6666666666666666,0.8333333333333334,0.5,0.5,0.5,0.5,0.6666666666666666,0.5,0.75,0.9,0.5,0.5,0.8,0.5,0.5,0.6666666666666666,0.8333333333333334,0.5,0.5,0.6666666666666666,0.6666666666666666,0.9090909090909091,0.6666666666666666,0.6666666666666666,0.6666666666666666,0.9,0.5,0.5,0.5,0.75,0.875,0.8571428571428571,0.875,0.9166666666666666,0.8571428571428571,0.75,0.5,0.5,0.5,0.5,0.8,0.6666666666666666,0.8333333333333334,0.6666666666666666,0.8333333333333334,0.6666666666666666,0.5,0.6666666666666666,0.6666666666666666,0.5,0.75,0.5,0.6666666666666666,0.5,0.8,0.5,0.6666666666666666,0.6666666666666666,0.5,0.8,0.5,0.75,0.8,0.5,0.75,0.8,0.8333333333333334,0.5,0.75,0.5,0.5,0.8571428571428571,0.5,0.875,0.6666666666666666,0.75,0.75,0.5,0.5,0.5,0.6666666666666666,0.5,0.8,0.5,0.75,0.5,0.875,0.9090909090909091,0.75,0.875,0.75,0.5,0.5,0.6666666666666666,0.5,0.8571428571428571,0.9523809523809523,0.9,0.5,0.75,0.9285714285714286,0.875,0.8,0.6666666666666666,0.6666666666666666,0.5,0.8,0.5,0.5,0.6666666666666666,0.9090909090909091,0.8,0.5,0.6666666666666666,0.5,0.5,0.6666666666666666,0.8,0.6666666666666666,0.5,0.8333333333333334,0.6666666666666666,0.5,0.75,0.5,0.5,0.5,0.5,0.5,0.8,0.6666666666666666,0.6666666666666666,0.6666666666666666,0.5,0.5,0.75,0.8,0.75,0.8333333333333334,0.5,0.6666666666666666,0.6666666666666666,0.5,0.8333333333333334,0.6666666666666666,0.8333333333333334,0.5,0.8571428571428571,0.9090909090909091,0.5,0.8,0.9090909090909091,0.8,0.8,0.6666666666666666,0.5,0.8,0.9285714285714286,0.75,0.8,0.9565217391304348,0.9285714285714286,0.75,0.5,0.5,0.8333333333333334,0.6666666666666666,0.9090909090909091,0.6666666666666666,0.5,0.5,0.75,0.75,0.8,0.6666666666666666,0.5,0.5,0.75,0.8333333333333334,0.6666666666666666,0.6666666666666666,0.5,0.8571428571428571,0.5,0.5,0.5,0.5,0.5,0.5,0.5,0.5,0.8333333333333334,0.5,0.6666666666666666,0.8,0.6666666666666666,0.6666666666666666,0.8,0.8,0.75,0.875,0.8,0.9,0.9230769230769231,0.5,0.6666666666666666,0.8571428571428571,0.5,0.5,0.6666666666666666,0.9166666666666666,0.8888888888888888,0.8888888888888888,0.5,0.9655172413793104,0.9166666666666666,0.6666666666666666,0.8333333333333334,0.5,0.8888888888888888,0.6666666666666666,0.8,0.6666666666666666,0.5,0.5,0.75,0.5,0.5,0.6666666666666666,0.5,0.75,0.8333333333333334,0.8,0.6666666666666666,0.6666666666666666,0.75,0.875,0.6666666666666666,0.75,0.6666666666666666,0.5,0.5,0.5,0.75,0.75,0.8,0.8333333333333334,0.9,0.5,0.5,0.8333333333333334,0.8571428571428571,0.5,0.5,0.8,0.8571428571428571,0.6666666666666666,0.8333333333333334,0.8888888888888888,0.6666666666666666,0.6666666666666666,0.8571428571428571,0.8888888888888888,0.6666666666666666,0.5,0.5,0.6666666666666666,0.8571428571428571,0.8333333333333334,0.6666666666666666,0.5,0.75,0.9090909090909091,0.9,0.8,0.6666666666666666,0.5,0.6666666666666666,0.5,0.75,0.8,0.875,0.5,0.8571428571428571,0.6666666666666666,0.5,0.6666666666666666,0.75,0.75,0.5,0.8,0.8333333333333334,0.8,0.6666666666666666,0.5,0.6666666666666666,0.8,0.8,0.8888888888888888,0.6666666666666666,0.6666666666666666,0.5,0.5,0.6666666666666666,0.6666666666666666,0.5,0.75,0.75,0.5,0.5,0.5,0.6666666666666666,0.8333333333333334,0.8,0.5,0.5,0.8,0.75,0.8333333333333334,0.75,0.5,0.8888888888888888,0.9166666666666666,0.5,0.8333333333333334,0.8571428571428571,0.6666666666666666,0.75,0.8571428571428571,0.5,0.5,0.9230769230769231,0.875,0.6666666666666666,0.5,0.9375,0.8333333333333334,0.875,0.6666666666666666,0.5,0.6666666666666666,0.8571428571428571,0.5,0.75,0.75,0.8571428571428571,0.8333333333333334,0.6666666666666666,0.6666666666666666,0.8,0.5,0.5,0.6666666666666666,0.6666666666666666,0.6666666666666666,0.5,0.8571428571428571,0.8,0.6666666666666666,0.6666666666666666,0.5,0.6666666666666666,0.75,0.5,0.6666666666666666,0.5,0.6666666666666666,0.5,0.8,0.8,0.5,0.5,0.5,0.5,0.875,0.75,0.6666666666666666,0.75,0.6666666666666666,0.75,0.75,0.5,0.8333333333333334,0.8571428571428571,0.5,0.75,0.5,0.75,0.8,0.5,0.8,0.75,0.75,0.5,0.9444444444444444,0.875,0.6666666666666666,0.5,0.5,0.8,0.75,0.6666666666666666,0.5,0.75,0.5,0.6666666666666666,0.5,0.8,0.75,0.5,0.5,0.5,0.5,0.6666666666666666,0.5,0.5,0.8,0.75,0.5,0.6666666666666666,0.5,0.6666666666666666,0.6666666666666666,0.5,0.5,0.6666666666666666,0.6666666666666666,0.5,0.6666666666666666,0.6666666666666666,0.875,0.75,0.6666666666666666,0.875,0.5,0.6666666666666666,0.6666666666666666,0.5,0.6666666666666666,0.8,0.9,0.6666666666666666,0.875,0.875,0.5,0.6666666666666666,0.5,0.5,0.875,0.8,0.5,0.9285714285714286,0.8333333333333334,0.6666666666666666,0.5,0.75,0.5,0.6666666666666666,0.5,0.75,0.6666666666666666,0.8333333333333334,0.6666666666666666,0.6666666666666666,0.8333333333333334,0.5,0.5,0.5,0.5,0.6666666666666666,0.5,0.5,0.8,0.6666666666666666,0.6666666666666666,0.5,0.6666666666666666,0.5,0.5,0.5,0.5,0.5,0.5,0.5,0.5,0.5,0.5,0.5,0.5,0.5,0.5,0.5,0.5,0.5,0.5,0.5,0.5,0.5],\"type\":\"densitymapbox\"}],                        {\"template\":{\"data\":{\"candlestick\":[{\"decreasing\":{\"line\":{\"color\":\"#000033\"}},\"increasing\":{\"line\":{\"color\":\"#000032\"}},\"type\":\"candlestick\"}],\"contourcarpet\":[{\"colorscale\":[[0.0,\"#000011\"],[0.1111111111111111,\"#000012\"],[0.2222222222222222,\"#000013\"],[0.3333333333333333,\"#000014\"],[0.4444444444444444,\"#000015\"],[0.5555555555555556,\"#000016\"],[0.6666666666666666,\"#000017\"],[0.7777777777777778,\"#000018\"],[0.8888888888888888,\"#000019\"],[1.0,\"#000020\"]],\"type\":\"contourcarpet\"}],\"contour\":[{\"colorscale\":[[0.0,\"#000011\"],[0.1111111111111111,\"#000012\"],[0.2222222222222222,\"#000013\"],[0.3333333333333333,\"#000014\"],[0.4444444444444444,\"#000015\"],[0.5555555555555556,\"#000016\"],[0.6666666666666666,\"#000017\"],[0.7777777777777778,\"#000018\"],[0.8888888888888888,\"#000019\"],[1.0,\"#000020\"]],\"type\":\"contour\"}],\"heatmap\":[{\"colorscale\":[[0.0,\"#000011\"],[0.1111111111111111,\"#000012\"],[0.2222222222222222,\"#000013\"],[0.3333333333333333,\"#000014\"],[0.4444444444444444,\"#000015\"],[0.5555555555555556,\"#000016\"],[0.6666666666666666,\"#000017\"],[0.7777777777777778,\"#000018\"],[0.8888888888888888,\"#000019\"],[1.0,\"#000020\"]],\"type\":\"heatmap\"}],\"histogram2d\":[{\"colorscale\":[[0.0,\"#000011\"],[0.1111111111111111,\"#000012\"],[0.2222222222222222,\"#000013\"],[0.3333333333333333,\"#000014\"],[0.4444444444444444,\"#000015\"],[0.5555555555555556,\"#000016\"],[0.6666666666666666,\"#000017\"],[0.7777777777777778,\"#000018\"],[0.8888888888888888,\"#000019\"],[1.0,\"#000020\"]],\"type\":\"histogram2d\"}],\"icicle\":[{\"textfont\":{\"color\":\"white\"},\"type\":\"icicle\"}],\"sankey\":[{\"textfont\":{\"color\":\"#000036\"},\"type\":\"sankey\"}],\"scatter\":[{\"marker\":{\"line\":{\"width\":0}},\"type\":\"scatter\"}],\"table\":[{\"cells\":{\"fill\":{\"color\":\"#000038\"},\"font\":{\"color\":\"#000037\"},\"line\":{\"color\":\"#000039\"}},\"header\":{\"fill\":{\"color\":\"#000040\"},\"font\":{\"color\":\"#000036\"},\"line\":{\"color\":\"#000039\"}},\"type\":\"table\"}],\"waterfall\":[{\"connector\":{\"line\":{\"color\":\"#000036\",\"width\":2}},\"decreasing\":{\"marker\":{\"color\":\"#000033\"}},\"increasing\":{\"marker\":{\"color\":\"#000032\"}},\"totals\":{\"marker\":{\"color\":\"#000034\"}},\"type\":\"waterfall\"}]},\"layout\":{\"coloraxis\":{\"colorscale\":[[0.0,\"#000011\"],[0.1111111111111111,\"#000012\"],[0.2222222222222222,\"#000013\"],[0.3333333333333333,\"#000014\"],[0.4444444444444444,\"#000015\"],[0.5555555555555556,\"#000016\"],[0.6666666666666666,\"#000017\"],[0.7777777777777778,\"#000018\"],[0.8888888888888888,\"#000019\"],[1.0,\"#000020\"]]},\"colorscale\":{\"diverging\":[[0.0,\"#000021\"],[0.1,\"#000022\"],[0.2,\"#000023\"],[0.3,\"#000024\"],[0.4,\"#000025\"],[0.5,\"#000026\"],[0.6,\"#000027\"],[0.7,\"#000028\"],[0.8,\"#000029\"],[0.9,\"#000030\"],[1.0,\"#000031\"]],\"sequential\":[[0.0,\"#000011\"],[0.1111111111111111,\"#000012\"],[0.2222222222222222,\"#000013\"],[0.3333333333333333,\"#000014\"],[0.4444444444444444,\"#000015\"],[0.5555555555555556,\"#000016\"],[0.6666666666666666,\"#000017\"],[0.7777777777777778,\"#000018\"],[0.8888888888888888,\"#000019\"],[1.0,\"#000020\"]],\"sequentialminus\":[[0.0,\"#000011\"],[0.1111111111111111,\"#000012\"],[0.2222222222222222,\"#000013\"],[0.3333333333333333,\"#000014\"],[0.4444444444444444,\"#000015\"],[0.5555555555555556,\"#000016\"],[0.6666666666666666,\"#000017\"],[0.7777777777777778,\"#000018\"],[0.8888888888888888,\"#000019\"],[1.0,\"#000020\"]]},\"colorway\":[\"#000001\",\"#000002\",\"#000003\",\"#000004\",\"#000005\",\"#000006\",\"#000007\",\"#000008\",\"#000009\",\"#000010\"]}},\"mapbox\":{\"domain\":{\"x\":[0.0,1.0],\"y\":[0.0,1.0]},\"center\":{\"lat\":40.74415711947627,\"lon\":-73.93090016366612},\"zoom\":9,\"style\":\"carto-positron\"},\"coloraxis\":{\"colorbar\":{\"title\":{\"text\":\"demand_supply_ratio\"}},\"colorscale\":[[0.0,\"#30123b\"],[0.07142857142857142,\"#4145ab\"],[0.14285714285714285,\"#4675ed\"],[0.21428571428571427,\"#39a2fc\"],[0.2857142857142857,\"#1bcfd4\"],[0.35714285714285715,\"#24eca6\"],[0.42857142857142855,\"#61fc6c\"],[0.5,\"#a4fc3b\"],[0.5714285714285714,\"#d1e834\"],[0.6428571428571429,\"#f3c63a\"],[0.7142857142857143,\"#fe9b2d\"],[0.7857142857142857,\"#f36315\"],[0.8571428571428571,\"#d93806\"],[0.9285714285714286,\"#b11901\"],[1.0,\"#7a0402\"]]},\"legend\":{\"tracegroupgap\":0},\"title\":{\"text\":\"Heatmap of Demand\\u002fSupply Ratio by Zone\"}},                        {\"responsive\": true}                    ).then(function(){\n",
              "                            \n",
              "var gd = document.getElementById('1ef1aeeb-cd0f-4a1b-908c-de1f41f42a29');\n",
              "var x = new MutationObserver(function (mutations, observer) {{\n",
              "        var display = window.getComputedStyle(gd).display;\n",
              "        if (!display || display === 'none') {{\n",
              "            console.log([gd, 'removed!']);\n",
              "            Plotly.purge(gd);\n",
              "            observer.disconnect();\n",
              "        }}\n",
              "}});\n",
              "\n",
              "// Listen for the removal of the full notebook cells\n",
              "var notebookContainer = gd.closest('#notebook-container');\n",
              "if (notebookContainer) {{\n",
              "    x.observe(notebookContainer, {childList: true});\n",
              "}}\n",
              "\n",
              "// Listen for the clearing of the current output cell\n",
              "var outputEl = gd.closest('.output');\n",
              "if (outputEl) {{\n",
              "    x.observe(outputEl, {childList: true});\n",
              "}}\n",
              "\n",
              "                        })                };                            </script>        </div>\n",
              "</body>\n",
              "</html>"
            ]
          },
          "metadata": {}
        }
      ]
    }
  ]
}